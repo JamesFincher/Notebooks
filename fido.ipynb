{
 "cells": [
  {
   "cell_type": "markdown",
   "id": "9c8d291a",
   "metadata": {},
   "source": [
    "<h1>Code Examples using uuid module in Python</h1>\n",
    "\n"
   ]
  },
  {
   "cell_type": "markdown",
   "id": "0e168460",
   "metadata": {},
   "source": [
    "<h2>Example 1: Create a UUID using the `uuid.uuid1()` function</h2>\n",
    "\n"
   ]
  },
  {
   "cell_type": "code",
   "execution_count": null,
   "id": "83c3aeaf",
   "metadata": {},
   "outputs": [],
   "source": [
    "import uuid\n",
    "\n",
    "generated_uuid = uuid.uuid1()\n",
    "print(f\"Generated UUID (UUID1): {generated_uuid}\")\n"
   ]
  },
  {
   "cell_type": "code",
   "execution_count": null,
   "id": "912b3eaf",
   "metadata": {},
   "outputs": [],
   "source": [
    "import uuid\n",
    "\n",
    "generated_uuid = uuid.uuid1()\n",
    "print(f\"Generated UUID (UUID1): {generated_uuid}\")\n"
   ]
  },
  {
   "cell_type": "markdown",
   "id": "3130b568",
   "metadata": {},
   "source": [
    "<h2>Example 2: Create a UUID using the `uuid.uuid3()` function</h2>\n",
    "\n"
   ]
  },
  {
   "cell_type": "code",
   "execution_count": null,
   "id": "e67d5436",
   "metadata": {},
   "outputs": [],
   "source": [
    "import uuid\n",
    "\n",
    "namespace = uuid.NAMESPACE_DNS\n",
    "name = \"example.com\"\n",
    "generated_uuid = uuid.uuid3(namespace, name)\n",
    "print(f\"Generated UUID (UUID3): {generated_uuid}\")\n"
   ]
  },
  {
   "cell_type": "code",
   "execution_count": null,
   "id": "567a14c8",
   "metadata": {},
   "outputs": [],
   "source": [
    "import uuid\n",
    "\n",
    "namespace = uuid.NAMESPACE_DNS\n",
    "name = \"example.com\"\n",
    "generated_uuid = uuid.uuid3(namespace, name)\n",
    "print(f\"Generated UUID (UUID3): {generated_uuid}\")\n"
   ]
  },
  {
   "cell_type": "markdown",
   "id": "a004f246",
   "metadata": {},
   "source": [
    "<h2>Example 3: Create a UUID using the `uuid.uuid4()` function</h2>\n",
    "\n"
   ]
  },
  {
   "cell_type": "code",
   "execution_count": null,
   "id": "826e3f42",
   "metadata": {},
   "outputs": [],
   "source": [
    "import uuid\n",
    "\n",
    "generated_uuid = uuid.uuid4()\n",
    "print(f\"Generated UUID (UUID4): {generated_uuid}\")\n"
   ]
  },
  {
   "cell_type": "code",
   "execution_count": null,
   "id": "01e958d1",
   "metadata": {},
   "outputs": [],
   "source": [
    "import uuid\n",
    "\n",
    "generated_uuid = uuid.uuid4()\n",
    "print(f\"Generated UUID (UUID4): {generated_uuid}\")\n"
   ]
  },
  {
   "cell_type": "markdown",
   "id": "dc4fca0c",
   "metadata": {},
   "source": [
    "<h2>Example 4: Create a UUID using the `uuid.uuid5()` function</h2>\n",
    "\n"
   ]
  },
  {
   "cell_type": "code",
   "execution_count": null,
   "id": "c74d0c85",
   "metadata": {},
   "outputs": [],
   "source": [
    "import uuid\n",
    "\n",
    "namespace = uuid.NAMESPACE_DNS\n",
    "name = \"example.com\"\n",
    "generated_uuid = uuid.uuid5(namespace, name)\n",
    "print(f\"Generated UUID (UUID5): {generated_uuid}\")\n"
   ]
  },
  {
   "cell_type": "code",
   "execution_count": null,
   "id": "26a8760c",
   "metadata": {},
   "outputs": [],
   "source": [
    "import uuid\n",
    "\n",
    "namespace = uuid.NAMESPACE_DNS\n",
    "name = \"example.com\"\n",
    "generated_uuid = uuid.uuid5(namespace, name)\n",
    "print(f\"Generated UUID (UUID5): {generated_uuid}\")\n"
   ]
  },
  {
   "cell_type": "markdown",
   "id": "36e66417",
   "metadata": {},
   "source": [
    "<h2>Example 5: Check if a string is a valid UUID</h2>\n",
    "\n"
   ]
  },
  {
   "cell_type": "code",
   "execution_count": null,
   "id": "a624fa71",
   "metadata": {},
   "outputs": [],
   "source": [
    "import uuid\n",
    "\n",
    "def is_valid_uuid(string):\n",
    "    try:\n",
    "        uuid.UUID(string)\n",
    "        return True\n",
    "    except ValueError:\n",
    "        return False\n",
    "\n",
    "test_uuid = \"e0b9522d-ff44-4e42-81b7-93257a519e78\"\n",
    "\n",
    "print(f\"Is '{test_uuid}' a valid UUID? {is_valid_uuid(test_uuid)}\")\n"
   ]
  },
  {
   "cell_type": "code",
   "execution_count": null,
   "id": "072b17ab",
   "metadata": {},
   "outputs": [],
   "source": [
    "import uuid\n",
    "\n",
    "def is_valid_uuid(string):\n",
    "    try:\n",
    "        uuid.UUID(string)\n",
    "        return True\n",
    "    except ValueError:\n",
    "        return False\n",
    "\n",
    "test_uuid = \"e0b9522d-ff44-4e42-81b7-93257a519e78\"\n",
    "\n",
    "print(f\"Is '{test_uuid}' a valid UUID? {is_valid_uuid(test_uuid)}\")\n"
   ]
  },
  {
   "cell_type": "markdown",
   "id": "8c5adeee",
   "metadata": {},
   "source": [
    "<h2>Example 6: Get the namespace UUID for URL, DNS, and OID</h2>\n",
    "\n"
   ]
  },
  {
   "cell_type": "code",
   "execution_count": null,
   "id": "fb678114",
   "metadata": {},
   "outputs": [],
   "source": [
    "import uuid\n",
    "\n",
    "print(f\"Namespace UUID for URL: {uuid.NAMESPACE_URL}\")\n",
    "print(f\"Namespace UUID for DNS: {uuid.NAMESPACE_DNS}\")\n",
    "print(f\"Namespace UUID for OID: {uuid.NAMESPACE_OID}\")\n"
   ]
  },
  {
   "cell_type": "code",
   "execution_count": null,
   "id": "b05897d2",
   "metadata": {},
   "outputs": [],
   "source": [
    "import uuid\n",
    "\n",
    "print(f\"Namespace UUID for URL: {uuid.NAMESPACE_URL}\")\n",
    "print(f\"Namespace UUID for DNS: {uuid.NAMESPACE_DNS}\")\n",
    "print(f\"Namespace UUID for OID: {uuid.NAMESPACE_OID}\")\n"
   ]
  },
  {
   "cell_type": "markdown",
   "id": "837b2f7a",
   "metadata": {},
   "source": [
    "<h2>Example 7: Convert a UUID to a string</h2>\n",
    "\n"
   ]
  },
  {
   "cell_type": "code",
   "execution_count": null,
   "id": "e33f38ac",
   "metadata": {},
   "outputs": [],
   "source": [
    "import uuid\n",
    "\n",
    "generated_uuid = uuid.uuid4()\n",
    "uuid_string = str(generated_uuid)\n",
    "print(f\"UUID as a string: {uuid_string}\")\n"
   ]
  },
  {
   "cell_type": "code",
   "execution_count": null,
   "id": "247ab7b0",
   "metadata": {},
   "outputs": [],
   "source": [
    "import uuid\n",
    "\n",
    "generated_uuid = uuid.uuid4()\n",
    "uuid_string = str(generated_uuid)\n",
    "print(f\"UUID as a string: {uuid_string}\")\n"
   ]
  },
  {
   "cell_type": "markdown",
   "id": "12aa3b6e",
   "metadata": {},
   "source": [
    "<h2>Example 8: Create a UUID object from a string</h2>\n",
    "\n"
   ]
  },
  {
   "cell_type": "code",
   "execution_count": null,
   "id": "2763407a",
   "metadata": {},
   "outputs": [],
   "source": [
    "import uuid\n",
    "\n",
    "uuid_string = \"e0b9522d-ff44-4e42-81b7-93257a519e78\"\n",
    "uuid_object = uuid.UUID(uuid_string)\n",
    "print(f\"UUID object from the string: {uuid_object}\")\n"
   ]
  },
  {
   "cell_type": "code",
   "execution_count": null,
   "id": "54fd0127",
   "metadata": {},
   "outputs": [],
   "source": [
    "import uuid\n",
    "\n",
    "uuid_string = \"e0b9522d-ff44-4e42-81b7-93257a519e78\"\n",
    "uuid_object = uuid.UUID(uuid_string)\n",
    "print(f\"UUID object from the string: {uuid_object}\")\n"
   ]
  },
  {
   "cell_type": "markdown",
   "id": "cb3f10f1",
   "metadata": {},
   "source": [
    "<h2>Example 9: Get the variant and version info of a UUID</h2>\n",
    "\n"
   ]
  },
  {
   "cell_type": "code",
   "execution_count": null,
   "id": "f2549c5f",
   "metadata": {},
   "outputs": [],
   "source": [
    "import uuid\n",
    "\n",
    "generated_uuid = uuid.uuid4()\n",
    "print(f\"Generated UUID: {generated_uuid}\")\n",
    "print(f\"UUID variant: {generated_uuid.variant}\")\n",
    "print(f\"UUID version: {generated_uuid.version}\")\n"
   ]
  },
  {
   "cell_type": "code",
   "execution_count": null,
   "id": "9a512c6b",
   "metadata": {},
   "outputs": [],
   "source": [
    "import uuid\n",
    "\n",
    "generated_uuid = uuid.uuid4()\n",
    "print(f\"Generated UUID: {generated_uuid}\")\n",
    "print(f\"UUID variant: {generated_uuid.variant}\")\n",
    "print(f\"UUID version: {generated_uuid.version}\")\n"
   ]
  },
  {
   "cell_type": "markdown",
   "id": "77914d25",
   "metadata": {},
   "source": [
    "<h2>Example 10: Compare two UUIDs</h2>\n",
    "\n"
   ]
  },
  {
   "cell_type": "code",
   "execution_count": null,
   "id": "dee02bb0",
   "metadata": {},
   "outputs": [],
   "source": [
    "import uuid\n",
    "\n",
    "uuid1 = uuid.uuid4()\n",
    "uuid2 = uuid.uuid4()\n",
    "\n",
    "print(f\"UUID1: {uuid1}\")\n",
    "print(f\"UUID2: {uuid2}\")\n",
    "print(f\"Is UUID1 equal to UUID2? {uuid1 == uuid2}\")\n"
   ]
  },
  {
   "cell_type": "code",
   "execution_count": null,
   "id": "fb0fde9e",
   "metadata": {},
   "outputs": [],
   "source": [
    "import uuid\n",
    "\n",
    "uuid1 = uuid.uuid4()\n",
    "uuid2 = uuid.uuid4()\n",
    "\n",
    "print(f\"UUID1: {uuid1}\")\n",
    "print(f\"UUID2: {uuid2}\")\n",
    "print(f\"Is UUID1 equal to UUID2? {uuid1 == uuid2}\")\n"
   ]
  }
 ],
 "metadata": {},
 "nbformat": 4,
 "nbformat_minor": 5
}
