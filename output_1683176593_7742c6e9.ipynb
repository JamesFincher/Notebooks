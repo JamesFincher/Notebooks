{
 "cells": [
  {
   "cell_type": "markdown",
   "id": "b4fb2bb0",
   "metadata": {},
   "source": [
    "<h1>Code Examples using os module in Python</h1>\n",
    "\n"
   ]
  },
  {
   "cell_type": "markdown",
   "id": "22bf71c5",
   "metadata": {},
   "source": [
    "<h2>Example 1: Get the current working directory using the `os` module</h2>\n",
    "\n"
   ]
  },
  {
   "cell_type": "code",
   "execution_count": null,
   "id": "4be7e6e8",
   "metadata": {},
   "outputs": [],
   "source": [
    "import os\n",
    "\n",
    "current_working_directory = os.getcwd()\n",
    "print(f\"Current working directory is: {current_working_directory}\")\n"
   ]
  },
  {
   "cell_type": "code",
   "execution_count": null,
   "id": "fc6156a6",
   "metadata": {},
   "outputs": [],
   "source": [
    "import os\n",
    "\n",
    "current_working_directory = os.getcwd()\n",
    "print(f\"Current working directory is: {current_working_directory}\")\n"
   ]
  },
  {
   "cell_type": "markdown",
   "id": "ec53f7ea",
   "metadata": {},
   "source": [
    "<h2>Example 2: Change the current working directory using the `os` module</h2>\n",
    "\n"
   ]
  },
  {
   "cell_type": "code",
   "execution_count": null,
   "id": "42ae0f63",
   "metadata": {},
   "outputs": [],
   "source": [
    "import os\n",
    "\n",
    "path = \"/your/desired/directory\"\n",
    "os.chdir(path)\n",
    "\n",
    "current_working_directory = os.getcwd()\n",
    "print(f\"Updated current working directory is: {current_working_directory}\")\n"
   ]
  },
  {
   "cell_type": "code",
   "execution_count": null,
   "id": "d2be0d4b",
   "metadata": {},
   "outputs": [],
   "source": [
    "import os\n",
    "\n",
    "path = \"/your/desired/directory\"\n",
    "os.chdir(path)\n",
    "\n",
    "current_working_directory = os.getcwd()\n",
    "print(f\"Updated current working directory is: {current_working_directory}\")\n"
   ]
  },
  {
   "cell_type": "markdown",
   "id": "8705f888",
   "metadata": {},
   "source": [
    "<h2>Example 3: List files and folders in a directory using the `os` module</h2>\n",
    "\n"
   ]
  },
  {
   "cell_type": "code",
   "execution_count": null,
   "id": "c7ea9920",
   "metadata": {},
   "outputs": [],
   "source": [
    "import os\n",
    "\n",
    "path = \"/your/desired/directory\"\n",
    "\n",
    "files_and_folders = os.listdir(path)\n",
    "print(f\"Files and folders in the directory: {files_and_folders}\")\n"
   ]
  },
  {
   "cell_type": "code",
   "execution_count": null,
   "id": "a1e998d9",
   "metadata": {},
   "outputs": [],
   "source": [
    "import os\n",
    "\n",
    "path = \"/your/desired/directory\"\n",
    "\n",
    "files_and_folders = os.listdir(path)\n",
    "print(f\"Files and folders in the directory: {files_and_folders}\")\n"
   ]
  },
  {
   "cell_type": "markdown",
   "id": "4c560921",
   "metadata": {},
   "source": [
    "<h2>Example 4: Create a new directory using the `os` module</h2>\n",
    "\n"
   ]
  },
  {
   "cell_type": "code",
   "execution_count": null,
   "id": "c51cc25d",
   "metadata": {},
   "outputs": [],
   "source": [
    "import os\n",
    "\n",
    "new_directory = \"new_folder\"\n",
    "os.mkdir(new_directory)\n",
    "print(f\"Created new directory '{new_directory}'\")\n"
   ]
  },
  {
   "cell_type": "code",
   "execution_count": null,
   "id": "5c2874d5",
   "metadata": {},
   "outputs": [],
   "source": [
    "import os\n",
    "\n",
    "new_directory = \"new_folder\"\n",
    "os.mkdir(new_directory)\n",
    "print(f\"Created new directory '{new_directory}'\")\n"
   ]
  },
  {
   "cell_type": "markdown",
   "id": "e272ab1f",
   "metadata": {},
   "source": [
    "<h2>Example 5: Delete a directory using the `os` module</h2>\n",
    "\n"
   ]
  },
  {
   "cell_type": "code",
   "execution_count": null,
   "id": "aee05bba",
   "metadata": {},
   "outputs": [],
   "source": [
    "import os\n",
    "\n",
    "directory_to_delete = \"directory_to_remove\"\n",
    "os.rmdir(directory_to_delete)\n",
    "print(f\"Deleted directory '{directory_to_delete}'\")\n"
   ]
  },
  {
   "cell_type": "code",
   "execution_count": null,
   "id": "deeb654f",
   "metadata": {},
   "outputs": [],
   "source": [
    "import os\n",
    "\n",
    "directory_to_delete = \"directory_to_remove\"\n",
    "os.rmdir(directory_to_delete)\n",
    "print(f\"Deleted directory '{directory_to_delete}'\")\n"
   ]
  },
  {
   "cell_type": "markdown",
   "id": "9872601c",
   "metadata": {},
   "source": [
    "<h2>Example 6: Create a file using the `os` module</h2>\n",
    "\n"
   ]
  },
  {
   "cell_type": "code",
   "execution_count": null,
   "id": "1493ff2a",
   "metadata": {},
   "outputs": [],
   "source": [
    "import os\n",
    "\n",
    "file_name = \"file.txt\"\n",
    "with open(file_name, \"w\") as file:\n",
    "    file.write(\"This is a test file.\")\n",
    "\n",
    "print(f\"Created file '{file_name}'\")\n"
   ]
  },
  {
   "cell_type": "code",
   "execution_count": null,
   "id": "ea6ddc00",
   "metadata": {},
   "outputs": [],
   "source": [
    "import os\n",
    "\n",
    "file_name = \"file.txt\"\n",
    "with open(file_name, \"w\") as file:\n",
    "    file.write(\"This is a test file.\")\n",
    "\n",
    "print(f\"Created file '{file_name}'\")\n"
   ]
  },
  {
   "cell_type": "markdown",
   "id": "ae1fce95",
   "metadata": {},
   "source": [
    "<h2>Example 7: Delete a file using the `os` module</h2>\n",
    "\n"
   ]
  },
  {
   "cell_type": "code",
   "execution_count": null,
   "id": "4da52a87",
   "metadata": {},
   "outputs": [],
   "source": [
    "import os\n",
    "\n",
    "file_to_delete = \"file.txt\"\n",
    "\n",
    "if os.path.isfile(file_to_delete):\n",
    "    os.remove(file_to_delete)\n",
    "    print(f\"Deleted file '{file_to_delete}'\")\n",
    "else:\n",
    "    print(f\"File '{file_to_delete}' does not exist.\")\n"
   ]
  },
  {
   "cell_type": "code",
   "execution_count": null,
   "id": "ad00be8e",
   "metadata": {},
   "outputs": [],
   "source": [
    "import os\n",
    "\n",
    "file_to_delete = \"file.txt\"\n",
    "\n",
    "if os.path.isfile(file_to_delete):\n",
    "    os.remove(file_to_delete)\n",
    "    print(f\"Deleted file '{file_to_delete}'\")\n",
    "else:\n",
    "    print(f\"File '{file_to_delete}' does not exist.\")\n"
   ]
  },
  {
   "cell_type": "markdown",
   "id": "ec279d4d",
   "metadata": {},
   "source": [
    "<h2>Example 8: Check if a file or directory exists using the `os` module</h2>\n",
    "\n"
   ]
  },
  {
   "cell_type": "code",
   "execution_count": null,
   "id": "66afb9eb",
   "metadata": {},
   "outputs": [],
   "source": [
    "import os\n",
    "\n",
    "path = \"file.txt\"\n",
    "\n",
    "if os.path.exists(path):\n",
    "    print(f\"{path} exists.\")\n",
    "else:\n",
    "    print(f\"{path} does not exist.\")\n"
   ]
  },
  {
   "cell_type": "code",
   "execution_count": null,
   "id": "d75f50ea",
   "metadata": {},
   "outputs": [],
   "source": [
    "import os\n",
    "\n",
    "path = \"file.txt\"\n",
    "\n",
    "if os.path.exists(path):\n",
    "    print(f\"{path} exists.\")\n",
    "else:\n",
    "    print(f\"{path} does not exist.\")\n"
   ]
  },
  {
   "cell_type": "markdown",
   "id": "69542e81",
   "metadata": {},
   "source": [
    "<h2>Example 9: Get the base filename and extension using the `os` module</h2>\n",
    "\n"
   ]
  },
  {
   "cell_type": "code",
   "execution_count": null,
   "id": "f7a39602",
   "metadata": {},
   "outputs": [],
   "source": [
    "import os\n",
    "\n",
    "file_path = \"example/test_folder/testfile.txt\"\n",
    "\n",
    "file_name, file_extension = os.path.splitext(file_path)\n",
    "print(f\"Filename: {file_name}\\nFile extension: {file_extension}\")\n"
   ]
  },
  {
   "cell_type": "code",
   "execution_count": null,
   "id": "52f527e6",
   "metadata": {},
   "outputs": [],
   "source": [
    "import os\n",
    "\n",
    "file_path = \"example/test_folder/testfile.txt\"\n",
    "\n",
    "file_name, file_extension = os.path.splitext(file_path)\n",
    "print(f\"Filename: {file_name}\\nFile extension: {file_extension}\")\n"
   ]
  },
  {
   "cell_type": "markdown",
   "id": "2cf974ec",
   "metadata": {},
   "source": [
    "<h2>Example 10: Get the size of a file using the `os` module</h2>\n",
    "\n"
   ]
  },
  {
   "cell_type": "code",
   "execution_count": null,
   "id": "b90dda27",
   "metadata": {},
   "outputs": [],
   "source": [
    "import os\n",
    "\n",
    "file_path = \"/path/to/your/file.txt\"\n",
    "\n",
    "file_size = os.path.getsize(file_path)\n",
    "print(f\"Size of the file '{file_path}' is {file_size} bytes\")\n"
   ]
  },
  {
   "cell_type": "code",
   "execution_count": null,
   "id": "7d0bcec9",
   "metadata": {},
   "outputs": [],
   "source": [
    "import os\n",
    "\n",
    "file_path = \"/path/to/your/file.txt\"\n",
    "\n",
    "file_size = os.path.getsize(file_path)\n",
    "print(f\"Size of the file '{file_path}' is {file_size} bytes\")\n"
   ]
  }
 ],
 "metadata": {},
 "nbformat": 4,
 "nbformat_minor": 5
}
