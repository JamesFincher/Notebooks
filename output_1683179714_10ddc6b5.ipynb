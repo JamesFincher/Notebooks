{
 "cells": [
  {
   "cell_type": "markdown",
   "id": "f6c5cc01",
   "metadata": {},
   "source": [
    "<h1>Code Examples using uuid module in Python</h1>\n",
    "\n"
   ]
  },
  {
   "cell_type": "markdown",
   "id": "9697bdd4",
   "metadata": {},
   "source": [
    "<h2>Example 1: Create a UUID using the `uuid.uuid1()` function</h2>\n",
    "\n"
   ]
  },
  {
   "cell_type": "code",
   "execution_count": null,
   "id": "e5a7e32e",
   "metadata": {},
   "outputs": [],
   "source": [
    "import uuid\n",
    "\n",
    "generated_uuid = uuid.uuid1()\n",
    "print(f\"Generated UUID (UUID1): {generated_uuid}\")\n"
   ]
  },
  {
   "cell_type": "code",
   "execution_count": null,
   "id": "2dde8dea",
   "metadata": {},
   "outputs": [],
   "source": [
    "import uuid\n",
    "\n",
    "generated_uuid = uuid.uuid1()\n",
    "print(f\"Generated UUID (UUID1): {generated_uuid}\")\n"
   ]
  },
  {
   "cell_type": "markdown",
   "id": "ab5e3b5a",
   "metadata": {},
   "source": [
    "<h2>Example 2: Create a UUID using the `uuid.uuid3()` function</h2>\n",
    "\n"
   ]
  },
  {
   "cell_type": "code",
   "execution_count": null,
   "id": "3f7e57ac",
   "metadata": {},
   "outputs": [],
   "source": [
    "import uuid\n",
    "\n",
    "namespace = uuid.NAMESPACE_DNS\n",
    "name = \"example.com\"\n",
    "generated_uuid = uuid.uuid3(namespace, name)\n",
    "print(f\"Generated UUID (UUID3): {generated_uuid}\")\n"
   ]
  },
  {
   "cell_type": "code",
   "execution_count": null,
   "id": "2b1846d8",
   "metadata": {},
   "outputs": [],
   "source": [
    "import uuid\n",
    "\n",
    "namespace = uuid.NAMESPACE_DNS\n",
    "name = \"example.com\"\n",
    "generated_uuid = uuid.uuid3(namespace, name)\n",
    "print(f\"Generated UUID (UUID3): {generated_uuid}\")\n"
   ]
  },
  {
   "cell_type": "markdown",
   "id": "f528e1f6",
   "metadata": {},
   "source": [
    "<h2>Example 3: Create a UUID using the `uuid.uuid4()` function</h2>\n",
    "\n"
   ]
  },
  {
   "cell_type": "code",
   "execution_count": null,
   "id": "f4c8fa44",
   "metadata": {},
   "outputs": [],
   "source": [
    "import uuid\n",
    "\n",
    "generated_uuid = uuid.uuid4()\n",
    "print(f\"Generated UUID (UUID4): {generated_uuid}\")\n"
   ]
  },
  {
   "cell_type": "code",
   "execution_count": null,
   "id": "e4131fee",
   "metadata": {},
   "outputs": [],
   "source": [
    "import uuid\n",
    "\n",
    "generated_uuid = uuid.uuid4()\n",
    "print(f\"Generated UUID (UUID4): {generated_uuid}\")\n"
   ]
  },
  {
   "cell_type": "markdown",
   "id": "b47d716d",
   "metadata": {},
   "source": [
    "<h2>Example 4: Create a UUID using the `uuid.uuid5()` function</h2>\n",
    "\n"
   ]
  },
  {
   "cell_type": "code",
   "execution_count": null,
   "id": "fac7511a",
   "metadata": {},
   "outputs": [],
   "source": [
    "import uuid\n",
    "\n",
    "namespace = uuid.NAMESPACE_DNS\n",
    "name = \"example.com\"\n",
    "generated_uuid = uuid.uuid5(namespace, name)\n",
    "print(f\"Generated UUID (UUID5): {generated_uuid}\")\n"
   ]
  },
  {
   "cell_type": "code",
   "execution_count": null,
   "id": "3a55e060",
   "metadata": {},
   "outputs": [],
   "source": [
    "import uuid\n",
    "\n",
    "namespace = uuid.NAMESPACE_DNS\n",
    "name = \"example.com\"\n",
    "generated_uuid = uuid.uuid5(namespace, name)\n",
    "print(f\"Generated UUID (UUID5): {generated_uuid}\")\n"
   ]
  },
  {
   "cell_type": "markdown",
   "id": "1e3ecfd3",
   "metadata": {},
   "source": [
    "<h2>Example 5: Check if a string is a valid UUID</h2>\n",
    "\n"
   ]
  },
  {
   "cell_type": "code",
   "execution_count": null,
   "id": "9443a4d9",
   "metadata": {},
   "outputs": [],
   "source": [
    "import uuid\n",
    "\n",
    "def is_valid_uuid(string):\n",
    "    try:\n",
    "        uuid.UUID(string)\n",
    "        return True\n",
    "    except ValueError:\n",
    "        return False\n",
    "\n",
    "test_uuid = \"e0b9522d-ff44-4e42-81b7-93257a519e78\"\n",
    "\n",
    "print(f\"Is '{test_uuid}' a valid UUID? {is_valid_uuid(test_uuid)}\")\n"
   ]
  },
  {
   "cell_type": "code",
   "execution_count": null,
   "id": "a5993370",
   "metadata": {},
   "outputs": [],
   "source": [
    "import uuid\n",
    "\n",
    "def is_valid_uuid(string):\n",
    "    try:\n",
    "        uuid.UUID(string)\n",
    "        return True\n",
    "    except ValueError:\n",
    "        return False\n",
    "\n",
    "test_uuid = \"e0b9522d-ff44-4e42-81b7-93257a519e78\"\n",
    "\n",
    "print(f\"Is '{test_uuid}' a valid UUID? {is_valid_uuid(test_uuid)}\")\n"
   ]
  },
  {
   "cell_type": "markdown",
   "id": "4dc58789",
   "metadata": {},
   "source": [
    "<h2>Example 6: Get the namespace UUID for URL, DNS, and OID</h2>\n",
    "\n"
   ]
  },
  {
   "cell_type": "code",
   "execution_count": null,
   "id": "228d8841",
   "metadata": {},
   "outputs": [],
   "source": [
    "import uuid\n",
    "\n",
    "print(f\"Namespace UUID for URL: {uuid.NAMESPACE_URL}\")\n",
    "print(f\"Namespace UUID for DNS: {uuid.NAMESPACE_DNS}\")\n",
    "print(f\"Namespace UUID for OID: {uuid.NAMESPACE_OID}\")\n"
   ]
  },
  {
   "cell_type": "code",
   "execution_count": null,
   "id": "7bf9d2f5",
   "metadata": {},
   "outputs": [],
   "source": [
    "import uuid\n",
    "\n",
    "print(f\"Namespace UUID for URL: {uuid.NAMESPACE_URL}\")\n",
    "print(f\"Namespace UUID for DNS: {uuid.NAMESPACE_DNS}\")\n",
    "print(f\"Namespace UUID for OID: {uuid.NAMESPACE_OID}\")\n"
   ]
  },
  {
   "cell_type": "markdown",
   "id": "bb82743f",
   "metadata": {},
   "source": [
    "<h2>Example 7: Convert a UUID to a string</h2>\n",
    "\n"
   ]
  },
  {
   "cell_type": "code",
   "execution_count": null,
   "id": "2736e226",
   "metadata": {},
   "outputs": [],
   "source": [
    "import uuid\n",
    "\n",
    "generated_uuid = uuid.uuid4()\n",
    "uuid_string = str(generated_uuid)\n",
    "print(f\"UUID as a string: {uuid_string}\")\n"
   ]
  },
  {
   "cell_type": "code",
   "execution_count": null,
   "id": "ca6f8efe",
   "metadata": {},
   "outputs": [],
   "source": [
    "import uuid\n",
    "\n",
    "generated_uuid = uuid.uuid4()\n",
    "uuid_string = str(generated_uuid)\n",
    "print(f\"UUID as a string: {uuid_string}\")\n"
   ]
  },
  {
   "cell_type": "markdown",
   "id": "692b0429",
   "metadata": {},
   "source": [
    "<h2>Example 8: Create a UUID object from a string</h2>\n",
    "\n"
   ]
  },
  {
   "cell_type": "code",
   "execution_count": null,
   "id": "491e3858",
   "metadata": {},
   "outputs": [],
   "source": [
    "import uuid\n",
    "\n",
    "uuid_string = \"e0b9522d-ff44-4e42-81b7-93257a519e78\"\n",
    "uuid_object = uuid.UUID(uuid_string)\n",
    "print(f\"UUID object from the string: {uuid_object}\")\n"
   ]
  },
  {
   "cell_type": "code",
   "execution_count": null,
   "id": "73f51865",
   "metadata": {},
   "outputs": [],
   "source": [
    "import uuid\n",
    "\n",
    "uuid_string = \"e0b9522d-ff44-4e42-81b7-93257a519e78\"\n",
    "uuid_object = uuid.UUID(uuid_string)\n",
    "print(f\"UUID object from the string: {uuid_object}\")\n"
   ]
  },
  {
   "cell_type": "markdown",
   "id": "88fd56cf",
   "metadata": {},
   "source": [
    "<h2>Example 9: Get the variant and version info of a UUID</h2>\n",
    "\n"
   ]
  },
  {
   "cell_type": "code",
   "execution_count": null,
   "id": "1f6ffe4d",
   "metadata": {},
   "outputs": [],
   "source": [
    "import uuid\n",
    "\n",
    "generated_uuid = uuid.uuid4()\n",
    "print(f\"Generated UUID: {generated_uuid}\")\n",
    "print(f\"UUID variant: {generated_uuid.variant}\")\n",
    "print(f\"UUID version: {generated_uuid.version}\")\n"
   ]
  },
  {
   "cell_type": "code",
   "execution_count": null,
   "id": "5b224004",
   "metadata": {},
   "outputs": [],
   "source": [
    "import uuid\n",
    "\n",
    "generated_uuid = uuid.uuid4()\n",
    "print(f\"Generated UUID: {generated_uuid}\")\n",
    "print(f\"UUID variant: {generated_uuid.variant}\")\n",
    "print(f\"UUID version: {generated_uuid.version}\")\n"
   ]
  },
  {
   "cell_type": "markdown",
   "id": "882f008e",
   "metadata": {},
   "source": [
    "<h2>Example 10: Compare two UUIDs</h2>\n",
    "\n"
   ]
  },
  {
   "cell_type": "code",
   "execution_count": null,
   "id": "b99b75dc",
   "metadata": {},
   "outputs": [],
   "source": [
    "import uuid\n",
    "\n",
    "uuid1 = uuid.uuid4()\n",
    "uuid2 = uuid.uuid4()\n",
    "\n",
    "print(f\"UUID1: {uuid1}\")\n",
    "print(f\"UUID2: {uuid2}\")\n",
    "print(f\"Is UUID1 equal to UUID2? {uuid1 == uuid2}\")\n"
   ]
  },
  {
   "cell_type": "code",
   "execution_count": null,
   "id": "09ab3b5e",
   "metadata": {},
   "outputs": [],
   "source": [
    "import uuid\n",
    "\n",
    "uuid1 = uuid.uuid4()\n",
    "uuid2 = uuid.uuid4()\n",
    "\n",
    "print(f\"UUID1: {uuid1}\")\n",
    "print(f\"UUID2: {uuid2}\")\n",
    "print(f\"Is UUID1 equal to UUID2? {uuid1 == uuid2}\")\n"
   ]
  }
 ],
 "metadata": {},
 "nbformat": 4,
 "nbformat_minor": 5
}
