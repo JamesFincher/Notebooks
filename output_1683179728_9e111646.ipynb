{
 "cells": [
  {
   "cell_type": "markdown",
   "id": "2839f88a",
   "metadata": {},
   "source": [
    "<h1>Code Examples using uuid module in Python</h1>\n",
    "\n"
   ]
  },
  {
   "cell_type": "markdown",
   "id": "8e221b14",
   "metadata": {},
   "source": [
    "<h2>Example 1: Create a UUID using the `uuid.uuid1()` function</h2>\n",
    "\n"
   ]
  },
  {
   "cell_type": "code",
   "execution_count": null,
   "id": "597dc9eb",
   "metadata": {},
   "outputs": [],
   "source": [
    "import uuid\n",
    "\n",
    "generated_uuid = uuid.uuid1()\n",
    "print(f\"Generated UUID (UUID1): {generated_uuid}\")\n"
   ]
  },
  {
   "cell_type": "code",
   "execution_count": null,
   "id": "bd3ff578",
   "metadata": {},
   "outputs": [],
   "source": [
    "import uuid\n",
    "\n",
    "generated_uuid = uuid.uuid1()\n",
    "print(f\"Generated UUID (UUID1): {generated_uuid}\")\n"
   ]
  },
  {
   "cell_type": "markdown",
   "id": "2734e686",
   "metadata": {},
   "source": [
    "<h2>Example 2: Create a UUID using the `uuid.uuid3()` function</h2>\n",
    "\n"
   ]
  },
  {
   "cell_type": "code",
   "execution_count": null,
   "id": "25e9b1f9",
   "metadata": {},
   "outputs": [],
   "source": [
    "import uuid\n",
    "\n",
    "namespace = uuid.NAMESPACE_DNS\n",
    "name = \"example.com\"\n",
    "generated_uuid = uuid.uuid3(namespace, name)\n",
    "print(f\"Generated UUID (UUID3): {generated_uuid}\")\n"
   ]
  },
  {
   "cell_type": "code",
   "execution_count": null,
   "id": "8ad68047",
   "metadata": {},
   "outputs": [],
   "source": [
    "import uuid\n",
    "\n",
    "namespace = uuid.NAMESPACE_DNS\n",
    "name = \"example.com\"\n",
    "generated_uuid = uuid.uuid3(namespace, name)\n",
    "print(f\"Generated UUID (UUID3): {generated_uuid}\")\n"
   ]
  },
  {
   "cell_type": "markdown",
   "id": "018568b1",
   "metadata": {},
   "source": [
    "<h2>Example 3: Create a UUID using the `uuid.uuid4()` function</h2>\n",
    "\n"
   ]
  },
  {
   "cell_type": "code",
   "execution_count": null,
   "id": "f55f0d5c",
   "metadata": {},
   "outputs": [],
   "source": [
    "import uuid\n",
    "\n",
    "generated_uuid = uuid.uuid4()\n",
    "print(f\"Generated UUID (UUID4): {generated_uuid}\")\n"
   ]
  },
  {
   "cell_type": "code",
   "execution_count": null,
   "id": "504cfc75",
   "metadata": {},
   "outputs": [],
   "source": [
    "import uuid\n",
    "\n",
    "generated_uuid = uuid.uuid4()\n",
    "print(f\"Generated UUID (UUID4): {generated_uuid}\")\n"
   ]
  },
  {
   "cell_type": "markdown",
   "id": "355e1887",
   "metadata": {},
   "source": [
    "<h2>Example 4: Create a UUID using the `uuid.uuid5()` function</h2>\n",
    "\n"
   ]
  },
  {
   "cell_type": "code",
   "execution_count": null,
   "id": "c6e6225a",
   "metadata": {},
   "outputs": [],
   "source": [
    "import uuid\n",
    "\n",
    "namespace = uuid.NAMESPACE_DNS\n",
    "name = \"example.com\"\n",
    "generated_uuid = uuid.uuid5(namespace, name)\n",
    "print(f\"Generated UUID (UUID5): {generated_uuid}\")\n"
   ]
  },
  {
   "cell_type": "code",
   "execution_count": null,
   "id": "e47138b3",
   "metadata": {},
   "outputs": [],
   "source": [
    "import uuid\n",
    "\n",
    "namespace = uuid.NAMESPACE_DNS\n",
    "name = \"example.com\"\n",
    "generated_uuid = uuid.uuid5(namespace, name)\n",
    "print(f\"Generated UUID (UUID5): {generated_uuid}\")\n"
   ]
  },
  {
   "cell_type": "markdown",
   "id": "08bdf6ba",
   "metadata": {},
   "source": [
    "<h2>Example 5: Check if a string is a valid UUID</h2>\n",
    "\n"
   ]
  },
  {
   "cell_type": "code",
   "execution_count": null,
   "id": "95aeae3a",
   "metadata": {},
   "outputs": [],
   "source": [
    "import uuid\n",
    "\n",
    "def is_valid_uuid(string):\n",
    "    try:\n",
    "        uuid.UUID(string)\n",
    "        return True\n",
    "    except ValueError:\n",
    "        return False\n",
    "\n",
    "test_uuid = \"e0b9522d-ff44-4e42-81b7-93257a519e78\"\n",
    "\n",
    "print(f\"Is '{test_uuid}' a valid UUID? {is_valid_uuid(test_uuid)}\")\n"
   ]
  },
  {
   "cell_type": "code",
   "execution_count": null,
   "id": "91f3b40f",
   "metadata": {},
   "outputs": [],
   "source": [
    "import uuid\n",
    "\n",
    "def is_valid_uuid(string):\n",
    "    try:\n",
    "        uuid.UUID(string)\n",
    "        return True\n",
    "    except ValueError:\n",
    "        return False\n",
    "\n",
    "test_uuid = \"e0b9522d-ff44-4e42-81b7-93257a519e78\"\n",
    "\n",
    "print(f\"Is '{test_uuid}' a valid UUID? {is_valid_uuid(test_uuid)}\")\n"
   ]
  },
  {
   "cell_type": "markdown",
   "id": "de8e8a2e",
   "metadata": {},
   "source": [
    "<h2>Example 6: Get the namespace UUID for URL, DNS, and OID</h2>\n",
    "\n"
   ]
  },
  {
   "cell_type": "code",
   "execution_count": null,
   "id": "5df4ac26",
   "metadata": {},
   "outputs": [],
   "source": [
    "import uuid\n",
    "\n",
    "print(f\"Namespace UUID for URL: {uuid.NAMESPACE_URL}\")\n",
    "print(f\"Namespace UUID for DNS: {uuid.NAMESPACE_DNS}\")\n",
    "print(f\"Namespace UUID for OID: {uuid.NAMESPACE_OID}\")\n"
   ]
  },
  {
   "cell_type": "code",
   "execution_count": null,
   "id": "fc210b42",
   "metadata": {},
   "outputs": [],
   "source": [
    "import uuid\n",
    "\n",
    "print(f\"Namespace UUID for URL: {uuid.NAMESPACE_URL}\")\n",
    "print(f\"Namespace UUID for DNS: {uuid.NAMESPACE_DNS}\")\n",
    "print(f\"Namespace UUID for OID: {uuid.NAMESPACE_OID}\")\n"
   ]
  },
  {
   "cell_type": "markdown",
   "id": "a9d1c96d",
   "metadata": {},
   "source": [
    "<h2>Example 7: Convert a UUID to a string</h2>\n",
    "\n"
   ]
  },
  {
   "cell_type": "code",
   "execution_count": null,
   "id": "2643038f",
   "metadata": {},
   "outputs": [],
   "source": [
    "import uuid\n",
    "\n",
    "generated_uuid = uuid.uuid4()\n",
    "uuid_string = str(generated_uuid)\n",
    "print(f\"UUID as a string: {uuid_string}\")\n"
   ]
  },
  {
   "cell_type": "code",
   "execution_count": null,
   "id": "4a3d0205",
   "metadata": {},
   "outputs": [],
   "source": [
    "import uuid\n",
    "\n",
    "generated_uuid = uuid.uuid4()\n",
    "uuid_string = str(generated_uuid)\n",
    "print(f\"UUID as a string: {uuid_string}\")\n"
   ]
  },
  {
   "cell_type": "markdown",
   "id": "92b7d8c0",
   "metadata": {},
   "source": [
    "<h2>Example 8: Create a UUID object from a string</h2>\n",
    "\n"
   ]
  },
  {
   "cell_type": "code",
   "execution_count": null,
   "id": "2987435a",
   "metadata": {},
   "outputs": [],
   "source": [
    "import uuid\n",
    "\n",
    "uuid_string = \"e0b9522d-ff44-4e42-81b7-93257a519e78\"\n",
    "uuid_object = uuid.UUID(uuid_string)\n",
    "print(f\"UUID object from the string: {uuid_object}\")\n"
   ]
  },
  {
   "cell_type": "code",
   "execution_count": null,
   "id": "4e64f2f7",
   "metadata": {},
   "outputs": [],
   "source": [
    "import uuid\n",
    "\n",
    "uuid_string = \"e0b9522d-ff44-4e42-81b7-93257a519e78\"\n",
    "uuid_object = uuid.UUID(uuid_string)\n",
    "print(f\"UUID object from the string: {uuid_object}\")\n"
   ]
  },
  {
   "cell_type": "markdown",
   "id": "00f27f70",
   "metadata": {},
   "source": [
    "<h2>Example 9: Get the variant and version info of a UUID</h2>\n",
    "\n"
   ]
  },
  {
   "cell_type": "code",
   "execution_count": null,
   "id": "7f37cf29",
   "metadata": {},
   "outputs": [],
   "source": [
    "import uuid\n",
    "\n",
    "generated_uuid = uuid.uuid4()\n",
    "print(f\"Generated UUID: {generated_uuid}\")\n",
    "print(f\"UUID variant: {generated_uuid.variant}\")\n",
    "print(f\"UUID version: {generated_uuid.version}\")\n"
   ]
  },
  {
   "cell_type": "code",
   "execution_count": null,
   "id": "74df320c",
   "metadata": {},
   "outputs": [],
   "source": [
    "import uuid\n",
    "\n",
    "generated_uuid = uuid.uuid4()\n",
    "print(f\"Generated UUID: {generated_uuid}\")\n",
    "print(f\"UUID variant: {generated_uuid.variant}\")\n",
    "print(f\"UUID version: {generated_uuid.version}\")\n"
   ]
  },
  {
   "cell_type": "markdown",
   "id": "f9b713b1",
   "metadata": {},
   "source": [
    "<h2>Example 10: Compare two UUIDs</h2>\n",
    "\n"
   ]
  },
  {
   "cell_type": "code",
   "execution_count": null,
   "id": "f46bd612",
   "metadata": {},
   "outputs": [],
   "source": [
    "import uuid\n",
    "\n",
    "uuid1 = uuid.uuid4()\n",
    "uuid2 = uuid.uuid4()\n",
    "\n",
    "print(f\"UUID1: {uuid1}\")\n",
    "print(f\"UUID2: {uuid2}\")\n",
    "print(f\"Is UUID1 equal to UUID2? {uuid1 == uuid2}\")\n"
   ]
  },
  {
   "cell_type": "code",
   "execution_count": null,
   "id": "6afd7b09",
   "metadata": {},
   "outputs": [],
   "source": [
    "import uuid\n",
    "\n",
    "uuid1 = uuid.uuid4()\n",
    "uuid2 = uuid.uuid4()\n",
    "\n",
    "print(f\"UUID1: {uuid1}\")\n",
    "print(f\"UUID2: {uuid2}\")\n",
    "print(f\"Is UUID1 equal to UUID2? {uuid1 == uuid2}\")\n"
   ]
  }
 ],
 "metadata": {},
 "nbformat": 4,
 "nbformat_minor": 5
}
