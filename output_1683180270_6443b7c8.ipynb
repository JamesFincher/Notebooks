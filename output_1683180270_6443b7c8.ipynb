{
 "cells": [
  {
   "cell_type": "markdown",
   "id": "04138737",
   "metadata": {},
   "source": [
    "<h1>Code Examples using os module in Python</h1>\n",
    "\n"
   ]
  },
  {
   "cell_type": "markdown",
   "id": "984ceffa",
   "metadata": {},
   "source": [
    "<h2>Example 1: Get the current working directory using the `os` module</h2>\n",
    "\n"
   ]
  },
  {
   "cell_type": "code",
   "execution_count": null,
   "id": "4cc97185",
   "metadata": {},
   "outputs": [],
   "source": [
    "import os\n",
    "\n",
    "current_working_directory = os.getcwd()\n",
    "print(f\"Current working directory is: {current_working_directory}\")\n"
   ]
  },
  {
   "cell_type": "code",
   "execution_count": null,
   "id": "bde8d265",
   "metadata": {},
   "outputs": [],
   "source": [
    "import os\n",
    "\n",
    "current_working_directory = os.getcwd()\n",
    "print(f\"Current working directory is: {current_working_directory}\")\n"
   ]
  },
  {
   "cell_type": "markdown",
   "id": "d0fdd831",
   "metadata": {},
   "source": [
    "<h2>Example 2: Change the current working directory using the `os` module</h2>\n",
    "\n"
   ]
  },
  {
   "cell_type": "code",
   "execution_count": null,
   "id": "c6af0244",
   "metadata": {},
   "outputs": [],
   "source": [
    "import os\n",
    "\n",
    "path = \"/your/desired/directory\"\n",
    "os.chdir(path)\n",
    "\n",
    "current_working_directory = os.getcwd()\n",
    "print(f\"Updated current working directory is: {current_working_directory}\")\n"
   ]
  },
  {
   "cell_type": "code",
   "execution_count": null,
   "id": "e6e358df",
   "metadata": {},
   "outputs": [],
   "source": [
    "import os\n",
    "\n",
    "path = \"/your/desired/directory\"\n",
    "os.chdir(path)\n",
    "\n",
    "current_working_directory = os.getcwd()\n",
    "print(f\"Updated current working directory is: {current_working_directory}\")\n"
   ]
  },
  {
   "cell_type": "markdown",
   "id": "7eae9431",
   "metadata": {},
   "source": [
    "<h2>Example 3: List files and folders in a directory using the `os` module</h2>\n",
    "\n"
   ]
  },
  {
   "cell_type": "code",
   "execution_count": null,
   "id": "3d523166",
   "metadata": {},
   "outputs": [],
   "source": [
    "import os\n",
    "\n",
    "path = \"/your/desired/directory\"\n",
    "\n",
    "files_and_folders = os.listdir(path)\n",
    "print(f\"Files and folders in the directory: {files_and_folders}\")\n"
   ]
  },
  {
   "cell_type": "code",
   "execution_count": null,
   "id": "c744f4ae",
   "metadata": {},
   "outputs": [],
   "source": [
    "import os\n",
    "\n",
    "path = \"/your/desired/directory\"\n",
    "\n",
    "files_and_folders = os.listdir(path)\n",
    "print(f\"Files and folders in the directory: {files_and_folders}\")\n"
   ]
  },
  {
   "cell_type": "markdown",
   "id": "4c7f3083",
   "metadata": {},
   "source": [
    "<h2>Example 4: Create a new directory using the `os` module</h2>\n",
    "\n"
   ]
  },
  {
   "cell_type": "code",
   "execution_count": null,
   "id": "21ead141",
   "metadata": {},
   "outputs": [],
   "source": [
    "import os\n",
    "\n",
    "new_directory = \"new_folder\"\n",
    "os.mkdir(new_directory)\n",
    "print(f\"Created new directory '{new_directory}'\")\n"
   ]
  },
  {
   "cell_type": "code",
   "execution_count": null,
   "id": "3cd3d7d3",
   "metadata": {},
   "outputs": [],
   "source": [
    "import os\n",
    "\n",
    "new_directory = \"new_folder\"\n",
    "os.mkdir(new_directory)\n",
    "print(f\"Created new directory '{new_directory}'\")\n"
   ]
  },
  {
   "cell_type": "markdown",
   "id": "d3845e76",
   "metadata": {},
   "source": [
    "<h2>Example 5: Delete a directory using the `os` module</h2>\n",
    "\n"
   ]
  },
  {
   "cell_type": "code",
   "execution_count": null,
   "id": "25c27035",
   "metadata": {},
   "outputs": [],
   "source": [
    "import os\n",
    "\n",
    "directory_to_delete = \"directory_to_remove\"\n",
    "os.rmdir(directory_to_delete)\n",
    "print(f\"Deleted directory '{directory_to_delete}'\")\n"
   ]
  },
  {
   "cell_type": "code",
   "execution_count": null,
   "id": "60d8cc6b",
   "metadata": {},
   "outputs": [],
   "source": [
    "import os\n",
    "\n",
    "directory_to_delete = \"directory_to_remove\"\n",
    "os.rmdir(directory_to_delete)\n",
    "print(f\"Deleted directory '{directory_to_delete}'\")\n"
   ]
  },
  {
   "cell_type": "markdown",
   "id": "6f52f31e",
   "metadata": {},
   "source": [
    "<h2>Example 6: Create a file using the `os` module</h2>\n",
    "\n"
   ]
  },
  {
   "cell_type": "code",
   "execution_count": null,
   "id": "daa40993",
   "metadata": {},
   "outputs": [],
   "source": [
    "import os\n",
    "\n",
    "file_name = \"file.txt\"\n",
    "with open(file_name, \"w\") as file:\n",
    "    file.write(\"This is a test file.\")\n",
    "\n",
    "print(f\"Created file '{file_name}'\")\n"
   ]
  },
  {
   "cell_type": "code",
   "execution_count": null,
   "id": "cc74f40f",
   "metadata": {},
   "outputs": [],
   "source": [
    "import os\n",
    "\n",
    "file_name = \"file.txt\"\n",
    "with open(file_name, \"w\") as file:\n",
    "    file.write(\"This is a test file.\")\n",
    "\n",
    "print(f\"Created file '{file_name}'\")\n"
   ]
  },
  {
   "cell_type": "markdown",
   "id": "1632bccc",
   "metadata": {},
   "source": [
    "<h2>Example 7: Delete a file using the `os` module</h2>\n",
    "\n"
   ]
  },
  {
   "cell_type": "code",
   "execution_count": null,
   "id": "e0be4c9f",
   "metadata": {},
   "outputs": [],
   "source": [
    "import os\n",
    "\n",
    "file_to_delete = \"file.txt\"\n",
    "\n",
    "if os.path.isfile(file_to_delete):\n",
    "    os.remove(file_to_delete)\n",
    "    print(f\"Deleted file '{file_to_delete}'\")\n",
    "else:\n",
    "    print(f\"File '{file_to_delete}' does not exist.\")\n"
   ]
  },
  {
   "cell_type": "code",
   "execution_count": null,
   "id": "8389e4aa",
   "metadata": {},
   "outputs": [],
   "source": [
    "import os\n",
    "\n",
    "file_to_delete = \"file.txt\"\n",
    "\n",
    "if os.path.isfile(file_to_delete):\n",
    "    os.remove(file_to_delete)\n",
    "    print(f\"Deleted file '{file_to_delete}'\")\n",
    "else:\n",
    "    print(f\"File '{file_to_delete}' does not exist.\")\n"
   ]
  },
  {
   "cell_type": "markdown",
   "id": "4537768a",
   "metadata": {},
   "source": [
    "<h2>Example 8: Check if a file or directory exists using the `os` module</h2>\n",
    "\n"
   ]
  },
  {
   "cell_type": "code",
   "execution_count": null,
   "id": "87b40098",
   "metadata": {},
   "outputs": [],
   "source": [
    "import os\n",
    "\n",
    "path = \"file.txt\"\n",
    "\n",
    "if os.path.exists(path):\n",
    "    print(f\"{path} exists.\")\n",
    "else:\n",
    "    print(f\"{path} does not exist.\")\n"
   ]
  },
  {
   "cell_type": "code",
   "execution_count": null,
   "id": "44bf2ec0",
   "metadata": {},
   "outputs": [],
   "source": [
    "import os\n",
    "\n",
    "path = \"file.txt\"\n",
    "\n",
    "if os.path.exists(path):\n",
    "    print(f\"{path} exists.\")\n",
    "else:\n",
    "    print(f\"{path} does not exist.\")\n"
   ]
  },
  {
   "cell_type": "markdown",
   "id": "3f076a60",
   "metadata": {},
   "source": [
    "<h2>Example 9: Get the base filename and extension using the `os` module</h2>\n",
    "\n"
   ]
  },
  {
   "cell_type": "code",
   "execution_count": null,
   "id": "a57caebc",
   "metadata": {},
   "outputs": [],
   "source": [
    "import os\n",
    "\n",
    "file_path = \"example/test_folder/testfile.txt\"\n",
    "\n",
    "file_name, file_extension = os.path.splitext(file_path)\n",
    "print(f\"Filename: {file_name}\\nFile extension: {file_extension}\")\n"
   ]
  },
  {
   "cell_type": "code",
   "execution_count": null,
   "id": "3386aaf7",
   "metadata": {},
   "outputs": [],
   "source": [
    "import os\n",
    "\n",
    "file_path = \"example/test_folder/testfile.txt\"\n",
    "\n",
    "file_name, file_extension = os.path.splitext(file_path)\n",
    "print(f\"Filename: {file_name}\\nFile extension: {file_extension}\")\n"
   ]
  },
  {
   "cell_type": "markdown",
   "id": "3165af31",
   "metadata": {},
   "source": [
    "<h2>Example 10: Get the size of a file using the `os` module</h2>\n",
    "\n"
   ]
  },
  {
   "cell_type": "code",
   "execution_count": null,
   "id": "a0cff87b",
   "metadata": {},
   "outputs": [],
   "source": [
    "import os\n",
    "\n",
    "file_path = \"/path/to/your/file.txt\"\n",
    "\n",
    "file_size = os.path.getsize(file_path)\n",
    "print(f\"Size of the file '{file_path}' is {file_size} bytes\")\n"
   ]
  },
  {
   "cell_type": "code",
   "execution_count": null,
   "id": "47be19ba",
   "metadata": {},
   "outputs": [],
   "source": [
    "import os\n",
    "\n",
    "file_path = \"/path/to/your/file.txt\"\n",
    "\n",
    "file_size = os.path.getsize(file_path)\n",
    "print(f\"Size of the file '{file_path}' is {file_size} bytes\")\n"
   ]
  }
 ],
 "metadata": {},
 "nbformat": 4,
 "nbformat_minor": 5
}
