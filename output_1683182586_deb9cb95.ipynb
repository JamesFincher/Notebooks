{
 "cells": [
  {
   "cell_type": "markdown",
   "id": "e4af09e8",
   "metadata": {},
   "source": [
    "<h1>Code Examples using uuid module in Python</h1>\n",
    "\n"
   ]
  },
  {
   "cell_type": "markdown",
   "id": "9a50b323",
   "metadata": {},
   "source": [
    "<h2>Example 1: Create a UUID using the `uuid.uuid1()` function</h2>\n",
    "\n"
   ]
  },
  {
   "cell_type": "code",
   "execution_count": null,
   "id": "28028085",
   "metadata": {},
   "outputs": [],
   "source": [
    "import uuid\n",
    "\n",
    "generated_uuid = uuid.uuid1()\n",
    "print(f\"Generated UUID (UUID1): {generated_uuid}\")\n"
   ]
  },
  {
   "cell_type": "code",
   "execution_count": null,
   "id": "a037867f",
   "metadata": {},
   "outputs": [],
   "source": [
    "import uuid\n",
    "\n",
    "generated_uuid = uuid.uuid1()\n",
    "print(f\"Generated UUID (UUID1): {generated_uuid}\")\n"
   ]
  },
  {
   "cell_type": "markdown",
   "id": "3fb36fab",
   "metadata": {},
   "source": [
    "<h2>Example 2: Create a UUID using the `uuid.uuid3()` function</h2>\n",
    "\n"
   ]
  },
  {
   "cell_type": "code",
   "execution_count": null,
   "id": "83f6aa7b",
   "metadata": {},
   "outputs": [],
   "source": [
    "import uuid\n",
    "\n",
    "namespace = uuid.NAMESPACE_DNS\n",
    "name = \"example.com\"\n",
    "generated_uuid = uuid.uuid3(namespace, name)\n",
    "print(f\"Generated UUID (UUID3): {generated_uuid}\")\n"
   ]
  },
  {
   "cell_type": "code",
   "execution_count": null,
   "id": "642d8db5",
   "metadata": {},
   "outputs": [],
   "source": [
    "import uuid\n",
    "\n",
    "namespace = uuid.NAMESPACE_DNS\n",
    "name = \"example.com\"\n",
    "generated_uuid = uuid.uuid3(namespace, name)\n",
    "print(f\"Generated UUID (UUID3): {generated_uuid}\")\n"
   ]
  },
  {
   "cell_type": "markdown",
   "id": "885231f1",
   "metadata": {},
   "source": [
    "<h2>Example 3: Create a UUID using the `uuid.uuid4()` function</h2>\n",
    "\n"
   ]
  },
  {
   "cell_type": "code",
   "execution_count": null,
   "id": "899395a0",
   "metadata": {},
   "outputs": [],
   "source": [
    "import uuid\n",
    "\n",
    "generated_uuid = uuid.uuid4()\n",
    "print(f\"Generated UUID (UUID4): {generated_uuid}\")\n"
   ]
  },
  {
   "cell_type": "code",
   "execution_count": null,
   "id": "75dc5eb6",
   "metadata": {},
   "outputs": [],
   "source": [
    "import uuid\n",
    "\n",
    "generated_uuid = uuid.uuid4()\n",
    "print(f\"Generated UUID (UUID4): {generated_uuid}\")\n"
   ]
  },
  {
   "cell_type": "markdown",
   "id": "167df4b8",
   "metadata": {},
   "source": [
    "<h2>Example 4: Create a UUID using the `uuid.uuid5()` function</h2>\n",
    "\n"
   ]
  },
  {
   "cell_type": "code",
   "execution_count": null,
   "id": "05894d00",
   "metadata": {},
   "outputs": [],
   "source": [
    "import uuid\n",
    "\n",
    "namespace = uuid.NAMESPACE_DNS\n",
    "name = \"example.com\"\n",
    "generated_uuid = uuid.uuid5(namespace, name)\n",
    "print(f\"Generated UUID (UUID5): {generated_uuid}\")\n"
   ]
  },
  {
   "cell_type": "code",
   "execution_count": null,
   "id": "5061400e",
   "metadata": {},
   "outputs": [],
   "source": [
    "import uuid\n",
    "\n",
    "namespace = uuid.NAMESPACE_DNS\n",
    "name = \"example.com\"\n",
    "generated_uuid = uuid.uuid5(namespace, name)\n",
    "print(f\"Generated UUID (UUID5): {generated_uuid}\")\n"
   ]
  },
  {
   "cell_type": "markdown",
   "id": "ef690258",
   "metadata": {},
   "source": [
    "<h2>Example 5: Check if a string is a valid UUID</h2>\n",
    "\n"
   ]
  },
  {
   "cell_type": "code",
   "execution_count": null,
   "id": "8c574ed9",
   "metadata": {},
   "outputs": [],
   "source": [
    "import uuid\n",
    "\n",
    "def is_valid_uuid(string):\n",
    "    try:\n",
    "        uuid.UUID(string)\n",
    "        return True\n",
    "    except ValueError:\n",
    "        return False\n",
    "\n",
    "test_uuid = \"e0b9522d-ff44-4e42-81b7-93257a519e78\"\n",
    "\n",
    "print(f\"Is '{test_uuid}' a valid UUID? {is_valid_uuid(test_uuid)}\")\n"
   ]
  },
  {
   "cell_type": "code",
   "execution_count": null,
   "id": "82a5fef6",
   "metadata": {},
   "outputs": [],
   "source": [
    "import uuid\n",
    "\n",
    "def is_valid_uuid(string):\n",
    "    try:\n",
    "        uuid.UUID(string)\n",
    "        return True\n",
    "    except ValueError:\n",
    "        return False\n",
    "\n",
    "test_uuid = \"e0b9522d-ff44-4e42-81b7-93257a519e78\"\n",
    "\n",
    "print(f\"Is '{test_uuid}' a valid UUID? {is_valid_uuid(test_uuid)}\")\n"
   ]
  },
  {
   "cell_type": "markdown",
   "id": "5fdce1f2",
   "metadata": {},
   "source": [
    "<h2>Example 6: Get the namespace UUID for URL, DNS, and OID</h2>\n",
    "\n"
   ]
  },
  {
   "cell_type": "code",
   "execution_count": null,
   "id": "9d72cd01",
   "metadata": {},
   "outputs": [],
   "source": [
    "import uuid\n",
    "\n",
    "print(f\"Namespace UUID for URL: {uuid.NAMESPACE_URL}\")\n",
    "print(f\"Namespace UUID for DNS: {uuid.NAMESPACE_DNS}\")\n",
    "print(f\"Namespace UUID for OID: {uuid.NAMESPACE_OID}\")\n"
   ]
  },
  {
   "cell_type": "code",
   "execution_count": null,
   "id": "a07e9447",
   "metadata": {},
   "outputs": [],
   "source": [
    "import uuid\n",
    "\n",
    "print(f\"Namespace UUID for URL: {uuid.NAMESPACE_URL}\")\n",
    "print(f\"Namespace UUID for DNS: {uuid.NAMESPACE_DNS}\")\n",
    "print(f\"Namespace UUID for OID: {uuid.NAMESPACE_OID}\")\n"
   ]
  },
  {
   "cell_type": "markdown",
   "id": "4443ea71",
   "metadata": {},
   "source": [
    "<h2>Example 7: Convert a UUID to a string</h2>\n",
    "\n"
   ]
  },
  {
   "cell_type": "code",
   "execution_count": null,
   "id": "5fc5592a",
   "metadata": {},
   "outputs": [],
   "source": [
    "import uuid\n",
    "\n",
    "generated_uuid = uuid.uuid4()\n",
    "uuid_string = str(generated_uuid)\n",
    "print(f\"UUID as a string: {uuid_string}\")\n"
   ]
  },
  {
   "cell_type": "code",
   "execution_count": null,
   "id": "ea036f2f",
   "metadata": {},
   "outputs": [],
   "source": [
    "import uuid\n",
    "\n",
    "generated_uuid = uuid.uuid4()\n",
    "uuid_string = str(generated_uuid)\n",
    "print(f\"UUID as a string: {uuid_string}\")\n"
   ]
  },
  {
   "cell_type": "markdown",
   "id": "c4a16a99",
   "metadata": {},
   "source": [
    "<h2>Example 8: Create a UUID object from a string</h2>\n",
    "\n"
   ]
  },
  {
   "cell_type": "code",
   "execution_count": null,
   "id": "c5732430",
   "metadata": {},
   "outputs": [],
   "source": [
    "import uuid\n",
    "\n",
    "uuid_string = \"e0b9522d-ff44-4e42-81b7-93257a519e78\"\n",
    "uuid_object = uuid.UUID(uuid_string)\n",
    "print(f\"UUID object from the string: {uuid_object}\")\n"
   ]
  },
  {
   "cell_type": "code",
   "execution_count": null,
   "id": "97b35049",
   "metadata": {},
   "outputs": [],
   "source": [
    "import uuid\n",
    "\n",
    "uuid_string = \"e0b9522d-ff44-4e42-81b7-93257a519e78\"\n",
    "uuid_object = uuid.UUID(uuid_string)\n",
    "print(f\"UUID object from the string: {uuid_object}\")\n"
   ]
  },
  {
   "cell_type": "markdown",
   "id": "04c46259",
   "metadata": {},
   "source": [
    "<h2>Example 9: Get the variant and version info of a UUID</h2>\n",
    "\n"
   ]
  },
  {
   "cell_type": "code",
   "execution_count": null,
   "id": "99def288",
   "metadata": {},
   "outputs": [],
   "source": [
    "import uuid\n",
    "\n",
    "generated_uuid = uuid.uuid4()\n",
    "print(f\"Generated UUID: {generated_uuid}\")\n",
    "print(f\"UUID variant: {generated_uuid.variant}\")\n",
    "print(f\"UUID version: {generated_uuid.version}\")\n"
   ]
  },
  {
   "cell_type": "code",
   "execution_count": null,
   "id": "9c05ad70",
   "metadata": {},
   "outputs": [],
   "source": [
    "import uuid\n",
    "\n",
    "generated_uuid = uuid.uuid4()\n",
    "print(f\"Generated UUID: {generated_uuid}\")\n",
    "print(f\"UUID variant: {generated_uuid.variant}\")\n",
    "print(f\"UUID version: {generated_uuid.version}\")\n"
   ]
  },
  {
   "cell_type": "markdown",
   "id": "208c0e9c",
   "metadata": {},
   "source": [
    "<h2>Example 10: Compare two UUIDs</h2>\n",
    "\n"
   ]
  },
  {
   "cell_type": "code",
   "execution_count": null,
   "id": "06936915",
   "metadata": {},
   "outputs": [],
   "source": [
    "import uuid\n",
    "\n",
    "uuid1 = uuid.uuid4()\n",
    "uuid2 = uuid.uuid4()\n",
    "\n",
    "print(f\"UUID1: {uuid1}\")\n",
    "print(f\"UUID2: {uuid2}\")\n",
    "print(f\"Is UUID1 equal to UUID2? {uuid1 == uuid2}\")\n"
   ]
  },
  {
   "cell_type": "code",
   "execution_count": null,
   "id": "986f892a",
   "metadata": {},
   "outputs": [],
   "source": [
    "import uuid\n",
    "\n",
    "uuid1 = uuid.uuid4()\n",
    "uuid2 = uuid.uuid4()\n",
    "\n",
    "print(f\"UUID1: {uuid1}\")\n",
    "print(f\"UUID2: {uuid2}\")\n",
    "print(f\"Is UUID1 equal to UUID2? {uuid1 == uuid2}\")\n"
   ]
  }
 ],
 "metadata": {},
 "nbformat": 4,
 "nbformat_minor": 5
}
