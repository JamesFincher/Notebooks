{
 "cells": [
  {
   "cell_type": "markdown",
   "id": "99d0f62d",
   "metadata": {},
   "source": [
    "<h1>Code Examples using os module in Python</h1>\n",
    "\n"
   ]
  },
  {
   "cell_type": "markdown",
   "id": "a3229c47",
   "metadata": {},
   "source": [
    "<h2>Example 1: Get the current working directory using the `os` module</h2>\n",
    "\n"
   ]
  },
  {
   "cell_type": "code",
   "execution_count": null,
   "id": "1e9e7aa8",
   "metadata": {},
   "outputs": [],
   "source": [
    "import os\n",
    "\n",
    "current_working_directory = os.getcwd()\n",
    "print(f\"Current working directory is: {current_working_directory}\")\n"
   ]
  },
  {
   "cell_type": "code",
   "execution_count": null,
   "id": "167ab38d",
   "metadata": {},
   "outputs": [],
   "source": [
    "import os\n",
    "\n",
    "current_working_directory = os.getcwd()\n",
    "print(f\"Current working directory is: {current_working_directory}\")\n"
   ]
  },
  {
   "cell_type": "markdown",
   "id": "4d0e2523",
   "metadata": {},
   "source": [
    "<h2>Example 2: Change the current working directory using the `os` module</h2>\n",
    "\n"
   ]
  },
  {
   "cell_type": "code",
   "execution_count": null,
   "id": "5049ccd4",
   "metadata": {},
   "outputs": [],
   "source": [
    "import os\n",
    "\n",
    "path = \"/your/desired/directory\"\n",
    "os.chdir(path)\n",
    "\n",
    "current_working_directory = os.getcwd()\n",
    "print(f\"Updated current working directory is: {current_working_directory}\")\n"
   ]
  },
  {
   "cell_type": "code",
   "execution_count": null,
   "id": "59c2ad37",
   "metadata": {},
   "outputs": [],
   "source": [
    "import os\n",
    "\n",
    "path = \"/your/desired/directory\"\n",
    "os.chdir(path)\n",
    "\n",
    "current_working_directory = os.getcwd()\n",
    "print(f\"Updated current working directory is: {current_working_directory}\")\n"
   ]
  },
  {
   "cell_type": "markdown",
   "id": "9b7392af",
   "metadata": {},
   "source": [
    "<h2>Example 3: List files and folders in a directory using the `os` module</h2>\n",
    "\n"
   ]
  },
  {
   "cell_type": "code",
   "execution_count": null,
   "id": "2f706a81",
   "metadata": {},
   "outputs": [],
   "source": [
    "import os\n",
    "\n",
    "path = \"/your/desired/directory\"\n",
    "\n",
    "files_and_folders = os.listdir(path)\n",
    "print(f\"Files and folders in the directory: {files_and_folders}\")\n"
   ]
  },
  {
   "cell_type": "code",
   "execution_count": null,
   "id": "528a2809",
   "metadata": {},
   "outputs": [],
   "source": [
    "import os\n",
    "\n",
    "path = \"/your/desired/directory\"\n",
    "\n",
    "files_and_folders = os.listdir(path)\n",
    "print(f\"Files and folders in the directory: {files_and_folders}\")\n"
   ]
  },
  {
   "cell_type": "markdown",
   "id": "a9dad4e3",
   "metadata": {},
   "source": [
    "<h2>Example 4: Create a new directory using the `os` module</h2>\n",
    "\n"
   ]
  },
  {
   "cell_type": "code",
   "execution_count": null,
   "id": "ac152614",
   "metadata": {},
   "outputs": [],
   "source": [
    "import os\n",
    "\n",
    "new_directory = \"new_folder\"\n",
    "os.mkdir(new_directory)\n",
    "print(f\"Created new directory '{new_directory}'\")\n"
   ]
  },
  {
   "cell_type": "code",
   "execution_count": null,
   "id": "f8053061",
   "metadata": {},
   "outputs": [],
   "source": [
    "import os\n",
    "\n",
    "new_directory = \"new_folder\"\n",
    "os.mkdir(new_directory)\n",
    "print(f\"Created new directory '{new_directory}'\")\n"
   ]
  },
  {
   "cell_type": "markdown",
   "id": "12778543",
   "metadata": {},
   "source": [
    "<h2>Example 5: Delete a directory using the `os` module</h2>\n",
    "\n"
   ]
  },
  {
   "cell_type": "code",
   "execution_count": null,
   "id": "e0fac248",
   "metadata": {},
   "outputs": [],
   "source": [
    "import os\n",
    "\n",
    "directory_to_delete = \"directory_to_remove\"\n",
    "os.rmdir(directory_to_delete)\n",
    "print(f\"Deleted directory '{directory_to_delete}'\")\n"
   ]
  },
  {
   "cell_type": "code",
   "execution_count": null,
   "id": "509f05ba",
   "metadata": {},
   "outputs": [],
   "source": [
    "import os\n",
    "\n",
    "directory_to_delete = \"directory_to_remove\"\n",
    "os.rmdir(directory_to_delete)\n",
    "print(f\"Deleted directory '{directory_to_delete}'\")\n"
   ]
  },
  {
   "cell_type": "markdown",
   "id": "2b21a026",
   "metadata": {},
   "source": [
    "<h2>Example 6: Create a file using the `os` module</h2>\n",
    "\n"
   ]
  },
  {
   "cell_type": "code",
   "execution_count": null,
   "id": "7c5598d7",
   "metadata": {},
   "outputs": [],
   "source": [
    "import os\n",
    "\n",
    "file_name = \"file.txt\"\n",
    "with open(file_name, \"w\") as file:\n",
    "    file.write(\"This is a test file.\")\n",
    "\n",
    "print(f\"Created file '{file_name}'\")\n"
   ]
  },
  {
   "cell_type": "code",
   "execution_count": null,
   "id": "ce78b4db",
   "metadata": {},
   "outputs": [],
   "source": [
    "import os\n",
    "\n",
    "file_name = \"file.txt\"\n",
    "with open(file_name, \"w\") as file:\n",
    "    file.write(\"This is a test file.\")\n",
    "\n",
    "print(f\"Created file '{file_name}'\")\n"
   ]
  },
  {
   "cell_type": "markdown",
   "id": "b3f3ceca",
   "metadata": {},
   "source": [
    "<h2>Example 7: Delete a file using the `os` module</h2>\n",
    "\n"
   ]
  },
  {
   "cell_type": "code",
   "execution_count": null,
   "id": "610d56b3",
   "metadata": {},
   "outputs": [],
   "source": [
    "import os\n",
    "\n",
    "file_to_delete = \"file.txt\"\n",
    "\n",
    "if os.path.isfile(file_to_delete):\n",
    "    os.remove(file_to_delete)\n",
    "    print(f\"Deleted file '{file_to_delete}'\")\n",
    "else:\n",
    "    print(f\"File '{file_to_delete}' does not exist.\")\n"
   ]
  },
  {
   "cell_type": "code",
   "execution_count": null,
   "id": "7b2fcced",
   "metadata": {},
   "outputs": [],
   "source": [
    "import os\n",
    "\n",
    "file_to_delete = \"file.txt\"\n",
    "\n",
    "if os.path.isfile(file_to_delete):\n",
    "    os.remove(file_to_delete)\n",
    "    print(f\"Deleted file '{file_to_delete}'\")\n",
    "else:\n",
    "    print(f\"File '{file_to_delete}' does not exist.\")\n"
   ]
  },
  {
   "cell_type": "markdown",
   "id": "1175c26c",
   "metadata": {},
   "source": [
    "<h2>Example 8: Check if a file or directory exists using the `os` module</h2>\n",
    "\n"
   ]
  },
  {
   "cell_type": "code",
   "execution_count": null,
   "id": "b530b4b9",
   "metadata": {},
   "outputs": [],
   "source": [
    "import os\n",
    "\n",
    "path = \"file.txt\"\n",
    "\n",
    "if os.path.exists(path):\n",
    "    print(f\"{path} exists.\")\n",
    "else:\n",
    "    print(f\"{path} does not exist.\")\n"
   ]
  },
  {
   "cell_type": "code",
   "execution_count": null,
   "id": "62f01a5d",
   "metadata": {},
   "outputs": [],
   "source": [
    "import os\n",
    "\n",
    "path = \"file.txt\"\n",
    "\n",
    "if os.path.exists(path):\n",
    "    print(f\"{path} exists.\")\n",
    "else:\n",
    "    print(f\"{path} does not exist.\")\n"
   ]
  },
  {
   "cell_type": "markdown",
   "id": "9f05fb11",
   "metadata": {},
   "source": [
    "<h2>Example 9: Get the base filename and extension using the `os` module</h2>\n",
    "\n"
   ]
  },
  {
   "cell_type": "code",
   "execution_count": null,
   "id": "c36f9e00",
   "metadata": {},
   "outputs": [],
   "source": [
    "import os\n",
    "\n",
    "file_path = \"example/test_folder/testfile.txt\"\n",
    "\n",
    "file_name, file_extension = os.path.splitext(file_path)\n",
    "print(f\"Filename: {file_name}\\nFile extension: {file_extension}\")\n"
   ]
  },
  {
   "cell_type": "code",
   "execution_count": null,
   "id": "688acf79",
   "metadata": {},
   "outputs": [],
   "source": [
    "import os\n",
    "\n",
    "file_path = \"example/test_folder/testfile.txt\"\n",
    "\n",
    "file_name, file_extension = os.path.splitext(file_path)\n",
    "print(f\"Filename: {file_name}\\nFile extension: {file_extension}\")\n"
   ]
  },
  {
   "cell_type": "markdown",
   "id": "2f1184ea",
   "metadata": {},
   "source": [
    "<h2>Example 10: Get the size of a file using the `os` module</h2>\n",
    "\n"
   ]
  },
  {
   "cell_type": "code",
   "execution_count": null,
   "id": "027a3921",
   "metadata": {},
   "outputs": [],
   "source": [
    "import os\n",
    "\n",
    "file_path = \"/path/to/your/file.txt\"\n",
    "\n",
    "file_size = os.path.getsize(file_path)\n",
    "print(f\"Size of the file '{file_path}' is {file_size} bytes\")\n"
   ]
  },
  {
   "cell_type": "code",
   "execution_count": null,
   "id": "c7317f77",
   "metadata": {},
   "outputs": [],
   "source": [
    "import os\n",
    "\n",
    "file_path = \"/path/to/your/file.txt\"\n",
    "\n",
    "file_size = os.path.getsize(file_path)\n",
    "print(f\"Size of the file '{file_path}' is {file_size} bytes\")\n"
   ]
  }
 ],
 "metadata": {},
 "nbformat": 4,
 "nbformat_minor": 5
}
