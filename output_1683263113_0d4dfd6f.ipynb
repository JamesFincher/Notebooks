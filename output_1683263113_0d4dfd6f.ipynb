{
 "cells": [
  {
   "cell_type": "markdown",
   "id": "7f4918d1",
   "metadata": {},
   "source": [
    "<h1>Code Examples using os module in Python</h1>\n",
    "\n"
   ]
  },
  {
   "cell_type": "markdown",
   "id": "0ec2e542",
   "metadata": {},
   "source": [
    "<h2>Example 1: Get the current working directory using the `os` module</h2>\n",
    "\n"
   ]
  },
  {
   "cell_type": "code",
   "execution_count": null,
   "id": "9d3bbbc3",
   "metadata": {},
   "outputs": [],
   "source": [
    "import os\n",
    "\n",
    "current_working_directory = os.getcwd()\n",
    "print(f\"Current working directory is: {current_working_directory}\")\n"
   ]
  },
  {
   "cell_type": "code",
   "execution_count": null,
   "id": "e9e900b8",
   "metadata": {},
   "outputs": [],
   "source": [
    "import os\n",
    "\n",
    "current_working_directory = os.getcwd()\n",
    "print(f\"Current working directory is: {current_working_directory}\")\n"
   ]
  },
  {
   "cell_type": "markdown",
   "id": "031ee712",
   "metadata": {},
   "source": [
    "<h2>Example 2: Change the current working directory using the `os` module</h2>\n",
    "\n"
   ]
  },
  {
   "cell_type": "code",
   "execution_count": null,
   "id": "e25a5abe",
   "metadata": {},
   "outputs": [],
   "source": [
    "import os\n",
    "\n",
    "path = \"/your/desired/directory\"\n",
    "os.chdir(path)\n",
    "\n",
    "current_working_directory = os.getcwd()\n",
    "print(f\"Updated current working directory is: {current_working_directory}\")\n"
   ]
  },
  {
   "cell_type": "code",
   "execution_count": null,
   "id": "95c7e6aa",
   "metadata": {},
   "outputs": [],
   "source": [
    "import os\n",
    "\n",
    "path = \"/your/desired/directory\"\n",
    "os.chdir(path)\n",
    "\n",
    "current_working_directory = os.getcwd()\n",
    "print(f\"Updated current working directory is: {current_working_directory}\")\n"
   ]
  },
  {
   "cell_type": "markdown",
   "id": "84fa1947",
   "metadata": {},
   "source": [
    "<h2>Example 3: List files and folders in a directory using the `os` module</h2>\n",
    "\n"
   ]
  },
  {
   "cell_type": "code",
   "execution_count": null,
   "id": "0193edb8",
   "metadata": {},
   "outputs": [],
   "source": [
    "import os\n",
    "\n",
    "path = \"/your/desired/directory\"\n",
    "\n",
    "files_and_folders = os.listdir(path)\n",
    "print(f\"Files and folders in the directory: {files_and_folders}\")\n"
   ]
  },
  {
   "cell_type": "code",
   "execution_count": null,
   "id": "a0a050f0",
   "metadata": {},
   "outputs": [],
   "source": [
    "import os\n",
    "\n",
    "path = \"/your/desired/directory\"\n",
    "\n",
    "files_and_folders = os.listdir(path)\n",
    "print(f\"Files and folders in the directory: {files_and_folders}\")\n"
   ]
  },
  {
   "cell_type": "markdown",
   "id": "8a3463f9",
   "metadata": {},
   "source": [
    "<h2>Example 4: Create a new directory using the `os` module</h2>\n",
    "\n"
   ]
  },
  {
   "cell_type": "code",
   "execution_count": null,
   "id": "a8cfaca4",
   "metadata": {},
   "outputs": [],
   "source": [
    "import os\n",
    "\n",
    "new_directory = \"new_folder\"\n",
    "os.mkdir(new_directory)\n",
    "print(f\"Created new directory '{new_directory}'\")\n"
   ]
  },
  {
   "cell_type": "code",
   "execution_count": null,
   "id": "6796ef88",
   "metadata": {},
   "outputs": [],
   "source": [
    "import os\n",
    "\n",
    "new_directory = \"new_folder\"\n",
    "os.mkdir(new_directory)\n",
    "print(f\"Created new directory '{new_directory}'\")\n"
   ]
  },
  {
   "cell_type": "markdown",
   "id": "cb91dbce",
   "metadata": {},
   "source": [
    "<h2>Example 5: Delete a directory using the `os` module</h2>\n",
    "\n"
   ]
  },
  {
   "cell_type": "code",
   "execution_count": null,
   "id": "0940a7c8",
   "metadata": {},
   "outputs": [],
   "source": [
    "import os\n",
    "\n",
    "directory_to_delete = \"directory_to_remove\"\n",
    "os.rmdir(directory_to_delete)\n",
    "print(f\"Deleted directory '{directory_to_delete}'\")\n"
   ]
  },
  {
   "cell_type": "code",
   "execution_count": null,
   "id": "f0cdbeb3",
   "metadata": {},
   "outputs": [],
   "source": [
    "import os\n",
    "\n",
    "directory_to_delete = \"directory_to_remove\"\n",
    "os.rmdir(directory_to_delete)\n",
    "print(f\"Deleted directory '{directory_to_delete}'\")\n"
   ]
  },
  {
   "cell_type": "markdown",
   "id": "e2cd5090",
   "metadata": {},
   "source": [
    "<h2>Example 6: Create a file using the `os` module</h2>\n",
    "\n"
   ]
  },
  {
   "cell_type": "code",
   "execution_count": null,
   "id": "319b6d2f",
   "metadata": {},
   "outputs": [],
   "source": [
    "import os\n",
    "\n",
    "file_name = \"file.txt\"\n",
    "with open(file_name, \"w\") as file:\n",
    "    file.write(\"This is a test file.\")\n",
    "\n",
    "print(f\"Created file '{file_name}'\")\n"
   ]
  },
  {
   "cell_type": "code",
   "execution_count": null,
   "id": "5821b8ff",
   "metadata": {},
   "outputs": [],
   "source": [
    "import os\n",
    "\n",
    "file_name = \"file.txt\"\n",
    "with open(file_name, \"w\") as file:\n",
    "    file.write(\"This is a test file.\")\n",
    "\n",
    "print(f\"Created file '{file_name}'\")\n"
   ]
  },
  {
   "cell_type": "markdown",
   "id": "1150e61b",
   "metadata": {},
   "source": [
    "<h2>Example 7: Delete a file using the `os` module</h2>\n",
    "\n"
   ]
  },
  {
   "cell_type": "code",
   "execution_count": null,
   "id": "4ba2da53",
   "metadata": {},
   "outputs": [],
   "source": [
    "import os\n",
    "\n",
    "file_to_delete = \"file.txt\"\n",
    "\n",
    "if os.path.isfile(file_to_delete):\n",
    "    os.remove(file_to_delete)\n",
    "    print(f\"Deleted file '{file_to_delete}'\")\n",
    "else:\n",
    "    print(f\"File '{file_to_delete}' does not exist.\")\n"
   ]
  },
  {
   "cell_type": "code",
   "execution_count": null,
   "id": "5cc2a196",
   "metadata": {},
   "outputs": [],
   "source": [
    "import os\n",
    "\n",
    "file_to_delete = \"file.txt\"\n",
    "\n",
    "if os.path.isfile(file_to_delete):\n",
    "    os.remove(file_to_delete)\n",
    "    print(f\"Deleted file '{file_to_delete}'\")\n",
    "else:\n",
    "    print(f\"File '{file_to_delete}' does not exist.\")\n"
   ]
  },
  {
   "cell_type": "markdown",
   "id": "50344823",
   "metadata": {},
   "source": [
    "<h2>Example 8: Check if a file or directory exists using the `os` module</h2>\n",
    "\n"
   ]
  },
  {
   "cell_type": "code",
   "execution_count": null,
   "id": "34f85452",
   "metadata": {},
   "outputs": [],
   "source": [
    "import os\n",
    "\n",
    "path = \"file.txt\"\n",
    "\n",
    "if os.path.exists(path):\n",
    "    print(f\"{path} exists.\")\n",
    "else:\n",
    "    print(f\"{path} does not exist.\")\n"
   ]
  },
  {
   "cell_type": "code",
   "execution_count": null,
   "id": "c87e9fcd",
   "metadata": {},
   "outputs": [],
   "source": [
    "import os\n",
    "\n",
    "path = \"file.txt\"\n",
    "\n",
    "if os.path.exists(path):\n",
    "    print(f\"{path} exists.\")\n",
    "else:\n",
    "    print(f\"{path} does not exist.\")\n"
   ]
  },
  {
   "cell_type": "markdown",
   "id": "0b331142",
   "metadata": {},
   "source": [
    "<h2>Example 9: Get the base filename and extension using the `os` module</h2>\n",
    "\n"
   ]
  },
  {
   "cell_type": "code",
   "execution_count": null,
   "id": "e7d27669",
   "metadata": {},
   "outputs": [],
   "source": [
    "import os\n",
    "\n",
    "file_path = \"example/test_folder/testfile.txt\"\n",
    "\n",
    "file_name, file_extension = os.path.splitext(file_path)\n",
    "print(f\"Filename: {file_name}\\nFile extension: {file_extension}\")\n"
   ]
  },
  {
   "cell_type": "code",
   "execution_count": null,
   "id": "e14cb980",
   "metadata": {},
   "outputs": [],
   "source": [
    "import os\n",
    "\n",
    "file_path = \"example/test_folder/testfile.txt\"\n",
    "\n",
    "file_name, file_extension = os.path.splitext(file_path)\n",
    "print(f\"Filename: {file_name}\\nFile extension: {file_extension}\")\n"
   ]
  },
  {
   "cell_type": "markdown",
   "id": "2e7468b3",
   "metadata": {},
   "source": [
    "<h2>Example 10: Get the size of a file using the `os` module</h2>\n",
    "\n"
   ]
  },
  {
   "cell_type": "code",
   "execution_count": null,
   "id": "e2345c4c",
   "metadata": {},
   "outputs": [],
   "source": [
    "import os\n",
    "\n",
    "file_path = \"/path/to/your/file.txt\"\n",
    "\n",
    "file_size = os.path.getsize(file_path)\n",
    "print(f\"Size of the file '{file_path}' is {file_size} bytes\")\n"
   ]
  },
  {
   "cell_type": "code",
   "execution_count": null,
   "id": "a7329dbe",
   "metadata": {},
   "outputs": [],
   "source": [
    "import os\n",
    "\n",
    "file_path = \"/path/to/your/file.txt\"\n",
    "\n",
    "file_size = os.path.getsize(file_path)\n",
    "print(f\"Size of the file '{file_path}' is {file_size} bytes\")\n"
   ]
  }
 ],
 "metadata": {},
 "nbformat": 4,
 "nbformat_minor": 5
}
