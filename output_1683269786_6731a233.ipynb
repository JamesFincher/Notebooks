{
 "cells": [
  {
   "cell_type": "markdown",
   "id": "76885fd6",
   "metadata": {},
   "source": [
    "<h1>Code Examples using uuid module in Python</h1>\n",
    "\n"
   ]
  },
  {
   "cell_type": "markdown",
   "id": "6cf3f5da",
   "metadata": {},
   "source": [
    "<h2>Example 1: Create a UUID using the `uuid.uuid1()` function</h2>\n",
    "\n"
   ]
  },
  {
   "cell_type": "code",
   "execution_count": null,
   "id": "4e00faa1",
   "metadata": {},
   "outputs": [],
   "source": [
    "import uuid\n",
    "\n",
    "generated_uuid = uuid.uuid1()\n",
    "print(f\"Generated UUID (UUID1): {generated_uuid}\")\n"
   ]
  },
  {
   "cell_type": "code",
   "execution_count": null,
   "id": "592d3571",
   "metadata": {},
   "outputs": [],
   "source": [
    "import uuid\n",
    "\n",
    "generated_uuid = uuid.uuid1()\n",
    "print(f\"Generated UUID (UUID1): {generated_uuid}\")\n"
   ]
  },
  {
   "cell_type": "markdown",
   "id": "ed95736b",
   "metadata": {},
   "source": [
    "<h2>Example 2: Create a UUID using the `uuid.uuid3()` function</h2>\n",
    "\n"
   ]
  },
  {
   "cell_type": "code",
   "execution_count": null,
   "id": "fc63461a",
   "metadata": {},
   "outputs": [],
   "source": [
    "import uuid\n",
    "\n",
    "namespace = uuid.NAMESPACE_DNS\n",
    "name = \"example.com\"\n",
    "generated_uuid = uuid.uuid3(namespace, name)\n",
    "print(f\"Generated UUID (UUID3): {generated_uuid}\")\n"
   ]
  },
  {
   "cell_type": "code",
   "execution_count": null,
   "id": "b11fdfa9",
   "metadata": {},
   "outputs": [],
   "source": [
    "import uuid\n",
    "\n",
    "namespace = uuid.NAMESPACE_DNS\n",
    "name = \"example.com\"\n",
    "generated_uuid = uuid.uuid3(namespace, name)\n",
    "print(f\"Generated UUID (UUID3): {generated_uuid}\")\n"
   ]
  },
  {
   "cell_type": "markdown",
   "id": "8ed0ff5a",
   "metadata": {},
   "source": [
    "<h2>Example 3: Create a UUID using the `uuid.uuid4()` function</h2>\n",
    "\n"
   ]
  },
  {
   "cell_type": "code",
   "execution_count": null,
   "id": "22cb7c07",
   "metadata": {},
   "outputs": [],
   "source": [
    "import uuid\n",
    "\n",
    "generated_uuid = uuid.uuid4()\n",
    "print(f\"Generated UUID (UUID4): {generated_uuid}\")\n"
   ]
  },
  {
   "cell_type": "code",
   "execution_count": null,
   "id": "3c079a3c",
   "metadata": {},
   "outputs": [],
   "source": [
    "import uuid\n",
    "\n",
    "generated_uuid = uuid.uuid4()\n",
    "print(f\"Generated UUID (UUID4): {generated_uuid}\")\n"
   ]
  },
  {
   "cell_type": "markdown",
   "id": "fb188079",
   "metadata": {},
   "source": [
    "<h2>Example 4: Create a UUID using the `uuid.uuid5()` function</h2>\n",
    "\n"
   ]
  },
  {
   "cell_type": "code",
   "execution_count": null,
   "id": "6d444c5e",
   "metadata": {},
   "outputs": [],
   "source": [
    "import uuid\n",
    "\n",
    "namespace = uuid.NAMESPACE_DNS\n",
    "name = \"example.com\"\n",
    "generated_uuid = uuid.uuid5(namespace, name)\n",
    "print(f\"Generated UUID (UUID5): {generated_uuid}\")\n"
   ]
  },
  {
   "cell_type": "code",
   "execution_count": null,
   "id": "bae119dc",
   "metadata": {},
   "outputs": [],
   "source": [
    "import uuid\n",
    "\n",
    "namespace = uuid.NAMESPACE_DNS\n",
    "name = \"example.com\"\n",
    "generated_uuid = uuid.uuid5(namespace, name)\n",
    "print(f\"Generated UUID (UUID5): {generated_uuid}\")\n"
   ]
  },
  {
   "cell_type": "markdown",
   "id": "6a668683",
   "metadata": {},
   "source": [
    "<h2>Example 5: Check if a string is a valid UUID</h2>\n",
    "\n"
   ]
  },
  {
   "cell_type": "code",
   "execution_count": null,
   "id": "3ecf97ce",
   "metadata": {},
   "outputs": [],
   "source": [
    "import uuid\n",
    "\n",
    "def is_valid_uuid(string):\n",
    "    try:\n",
    "        uuid.UUID(string)\n",
    "        return True\n",
    "    except ValueError:\n",
    "        return False\n",
    "\n",
    "test_uuid = \"e0b9522d-ff44-4e42-81b7-93257a519e78\"\n",
    "\n",
    "print(f\"Is '{test_uuid}' a valid UUID? {is_valid_uuid(test_uuid)}\")\n"
   ]
  },
  {
   "cell_type": "code",
   "execution_count": null,
   "id": "9a0af65d",
   "metadata": {},
   "outputs": [],
   "source": [
    "import uuid\n",
    "\n",
    "def is_valid_uuid(string):\n",
    "    try:\n",
    "        uuid.UUID(string)\n",
    "        return True\n",
    "    except ValueError:\n",
    "        return False\n",
    "\n",
    "test_uuid = \"e0b9522d-ff44-4e42-81b7-93257a519e78\"\n",
    "\n",
    "print(f\"Is '{test_uuid}' a valid UUID? {is_valid_uuid(test_uuid)}\")\n"
   ]
  },
  {
   "cell_type": "markdown",
   "id": "5e86fc37",
   "metadata": {},
   "source": [
    "<h2>Example 6: Get the namespace UUID for URL, DNS, and OID</h2>\n",
    "\n"
   ]
  },
  {
   "cell_type": "code",
   "execution_count": null,
   "id": "0ce788dc",
   "metadata": {},
   "outputs": [],
   "source": [
    "import uuid\n",
    "\n",
    "print(f\"Namespace UUID for URL: {uuid.NAMESPACE_URL}\")\n",
    "print(f\"Namespace UUID for DNS: {uuid.NAMESPACE_DNS}\")\n",
    "print(f\"Namespace UUID for OID: {uuid.NAMESPACE_OID}\")\n"
   ]
  },
  {
   "cell_type": "code",
   "execution_count": null,
   "id": "078ecc3d",
   "metadata": {},
   "outputs": [],
   "source": [
    "import uuid\n",
    "\n",
    "print(f\"Namespace UUID for URL: {uuid.NAMESPACE_URL}\")\n",
    "print(f\"Namespace UUID for DNS: {uuid.NAMESPACE_DNS}\")\n",
    "print(f\"Namespace UUID for OID: {uuid.NAMESPACE_OID}\")\n"
   ]
  },
  {
   "cell_type": "markdown",
   "id": "2eba1757",
   "metadata": {},
   "source": [
    "<h2>Example 7: Convert a UUID to a string</h2>\n",
    "\n"
   ]
  },
  {
   "cell_type": "code",
   "execution_count": null,
   "id": "3b319596",
   "metadata": {},
   "outputs": [],
   "source": [
    "import uuid\n",
    "\n",
    "generated_uuid = uuid.uuid4()\n",
    "uuid_string = str(generated_uuid)\n",
    "print(f\"UUID as a string: {uuid_string}\")\n"
   ]
  },
  {
   "cell_type": "code",
   "execution_count": null,
   "id": "920515be",
   "metadata": {},
   "outputs": [],
   "source": [
    "import uuid\n",
    "\n",
    "generated_uuid = uuid.uuid4()\n",
    "uuid_string = str(generated_uuid)\n",
    "print(f\"UUID as a string: {uuid_string}\")\n"
   ]
  },
  {
   "cell_type": "markdown",
   "id": "e063e699",
   "metadata": {},
   "source": [
    "<h2>Example 8: Create a UUID object from a string</h2>\n",
    "\n"
   ]
  },
  {
   "cell_type": "code",
   "execution_count": null,
   "id": "c5fc7d19",
   "metadata": {},
   "outputs": [],
   "source": [
    "import uuid\n",
    "\n",
    "uuid_string = \"e0b9522d-ff44-4e42-81b7-93257a519e78\"\n",
    "uuid_object = uuid.UUID(uuid_string)\n",
    "print(f\"UUID object from the string: {uuid_object}\")\n"
   ]
  },
  {
   "cell_type": "code",
   "execution_count": null,
   "id": "7ef15e91",
   "metadata": {},
   "outputs": [],
   "source": [
    "import uuid\n",
    "\n",
    "uuid_string = \"e0b9522d-ff44-4e42-81b7-93257a519e78\"\n",
    "uuid_object = uuid.UUID(uuid_string)\n",
    "print(f\"UUID object from the string: {uuid_object}\")\n"
   ]
  },
  {
   "cell_type": "markdown",
   "id": "4dfb81c5",
   "metadata": {},
   "source": [
    "<h2>Example 9: Get the variant and version info of a UUID</h2>\n",
    "\n"
   ]
  },
  {
   "cell_type": "code",
   "execution_count": null,
   "id": "8aaf95f2",
   "metadata": {},
   "outputs": [],
   "source": [
    "import uuid\n",
    "\n",
    "generated_uuid = uuid.uuid4()\n",
    "print(f\"Generated UUID: {generated_uuid}\")\n",
    "print(f\"UUID variant: {generated_uuid.variant}\")\n",
    "print(f\"UUID version: {generated_uuid.version}\")\n"
   ]
  },
  {
   "cell_type": "code",
   "execution_count": null,
   "id": "c006001e",
   "metadata": {},
   "outputs": [],
   "source": [
    "import uuid\n",
    "\n",
    "generated_uuid = uuid.uuid4()\n",
    "print(f\"Generated UUID: {generated_uuid}\")\n",
    "print(f\"UUID variant: {generated_uuid.variant}\")\n",
    "print(f\"UUID version: {generated_uuid.version}\")\n"
   ]
  },
  {
   "cell_type": "markdown",
   "id": "e0c4d41b",
   "metadata": {},
   "source": [
    "<h2>Example 10: Compare two UUIDs</h2>\n",
    "\n"
   ]
  },
  {
   "cell_type": "code",
   "execution_count": null,
   "id": "6bfd2306",
   "metadata": {},
   "outputs": [],
   "source": [
    "import uuid\n",
    "\n",
    "uuid1 = uuid.uuid4()\n",
    "uuid2 = uuid.uuid4()\n",
    "\n",
    "print(f\"UUID1: {uuid1}\")\n",
    "print(f\"UUID2: {uuid2}\")\n",
    "print(f\"Is UUID1 equal to UUID2? {uuid1 == uuid2}\")\n"
   ]
  },
  {
   "cell_type": "code",
   "execution_count": null,
   "id": "4bcb626d",
   "metadata": {},
   "outputs": [],
   "source": [
    "import uuid\n",
    "\n",
    "uuid1 = uuid.uuid4()\n",
    "uuid2 = uuid.uuid4()\n",
    "\n",
    "print(f\"UUID1: {uuid1}\")\n",
    "print(f\"UUID2: {uuid2}\")\n",
    "print(f\"Is UUID1 equal to UUID2? {uuid1 == uuid2}\")\n"
   ]
  }
 ],
 "metadata": {},
 "nbformat": 4,
 "nbformat_minor": 5
}
